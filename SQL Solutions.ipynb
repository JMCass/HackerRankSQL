{
 "cells": [
  {
   "cell_type": "markdown",
   "metadata": {},
   "source": [
    "# Revising the Select Query I"
   ]
  },
  {
   "cell_type": "code",
   "execution_count": null,
   "metadata": {},
   "outputs": [],
   "source": [
    "#Query all columns for all American cities in CITY with populations larger than 100000. \n",
    "#The CountryCode for America is USA.\n",
    "\n",
    "SELECT * FROM CITY\n",
    "WHERE COUNTRYCODE = 'USA' AND POPULATION > 100000;"
   ]
  },
  {
   "cell_type": "markdown",
   "metadata": {},
   "source": [
    "# Revising the Select Query II"
   ]
  },
  {
   "cell_type": "code",
   "execution_count": null,
   "metadata": {},
   "outputs": [],
   "source": [
    "#Query the names of all American cities in CITY with populations larger than 120000. \n",
    "#The CountryCode for America is USA.\n",
    "\n",
    "SELECT NAME FROM CITY\n",
    "WHERE COUNTRYCODE = 'USA' AND POPULATION > 120000;"
   ]
  },
  {
   "cell_type": "markdown",
   "metadata": {},
   "source": [
    "# Select All"
   ]
  },
  {
   "cell_type": "code",
   "execution_count": null,
   "metadata": {},
   "outputs": [],
   "source": [
    "#Query all columns (attributes) for every row in the CITY table.\n",
    "\n",
    "SELECT * FROM CITY;"
   ]
  }
 ],
 "metadata": {
  "kernelspec": {
   "display_name": "Python 3",
   "language": "python",
   "name": "python3"
  },
  "language_info": {
   "codemirror_mode": {
    "name": "ipython",
    "version": 3
   },
   "file_extension": ".py",
   "mimetype": "text/x-python",
   "name": "python",
   "nbconvert_exporter": "python",
   "pygments_lexer": "ipython3",
   "version": "3.7.7"
  }
 },
 "nbformat": 4,
 "nbformat_minor": 4
}
